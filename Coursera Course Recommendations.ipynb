{
 "cells": [
  {
   "cell_type": "markdown",
   "id": "6d0d8a0d",
   "metadata": {},
   "source": [
    "# Coursera Course Recommendations"
   ]
  },
  {
   "cell_type": "code",
   "execution_count": 8,
   "id": "dac53b3b",
   "metadata": {},
   "outputs": [],
   "source": [
    "import pandas as pd\n",
    "import numpy as np\n",
    "import matplotlib.pyplot as plt"
   ]
  },
  {
   "cell_type": "code",
   "execution_count": 6,
   "id": "e0b5403c",
   "metadata": {},
   "outputs": [],
   "source": [
    "df = pd.read_csv(\"./data/Coursera.csv\")"
   ]
  },
  {
   "cell_type": "code",
   "execution_count": 7,
   "id": "1f32390a",
   "metadata": {},
   "outputs": [
    {
     "data": {
      "text/html": [
       "<div>\n",
       "<style scoped>\n",
       "    .dataframe tbody tr th:only-of-type {\n",
       "        vertical-align: middle;\n",
       "    }\n",
       "\n",
       "    .dataframe tbody tr th {\n",
       "        vertical-align: top;\n",
       "    }\n",
       "\n",
       "    .dataframe thead th {\n",
       "        text-align: right;\n",
       "    }\n",
       "</style>\n",
       "<table border=\"1\" class=\"dataframe\">\n",
       "  <thead>\n",
       "    <tr style=\"text-align: right;\">\n",
       "      <th></th>\n",
       "      <th>Course Name</th>\n",
       "      <th>University</th>\n",
       "      <th>Difficulty Level</th>\n",
       "      <th>Course Rating</th>\n",
       "      <th>Course URL</th>\n",
       "      <th>Course Description</th>\n",
       "      <th>Skills</th>\n",
       "    </tr>\n",
       "  </thead>\n",
       "  <tbody>\n",
       "    <tr>\n",
       "      <th>0</th>\n",
       "      <td>Write A Feature Length Screenplay For Film Or ...</td>\n",
       "      <td>Michigan State University</td>\n",
       "      <td>Beginner</td>\n",
       "      <td>4.8</td>\n",
       "      <td>https://www.coursera.org/learn/write-a-feature...</td>\n",
       "      <td>Write a Full Length Feature Film Script  In th...</td>\n",
       "      <td>Drama  Comedy  peering  screenwriting  film  D...</td>\n",
       "    </tr>\n",
       "    <tr>\n",
       "      <th>1</th>\n",
       "      <td>Business Strategy: Business Model Canvas Analy...</td>\n",
       "      <td>Coursera Project Network</td>\n",
       "      <td>Beginner</td>\n",
       "      <td>4.8</td>\n",
       "      <td>https://www.coursera.org/learn/canvas-analysis...</td>\n",
       "      <td>By the end of this guided project, you will be...</td>\n",
       "      <td>Finance  business plan  persona (user experien...</td>\n",
       "    </tr>\n",
       "    <tr>\n",
       "      <th>2</th>\n",
       "      <td>Silicon Thin Film Solar Cells</td>\n",
       "      <td>�cole Polytechnique</td>\n",
       "      <td>Advanced</td>\n",
       "      <td>4.1</td>\n",
       "      <td>https://www.coursera.org/learn/silicon-thin-fi...</td>\n",
       "      <td>This course consists of a general presentation...</td>\n",
       "      <td>chemistry  physics  Solar Energy  film  lambda...</td>\n",
       "    </tr>\n",
       "    <tr>\n",
       "      <th>3</th>\n",
       "      <td>Finance for Managers</td>\n",
       "      <td>IESE Business School</td>\n",
       "      <td>Intermediate</td>\n",
       "      <td>4.8</td>\n",
       "      <td>https://www.coursera.org/learn/operational-fin...</td>\n",
       "      <td>When it comes to numbers, there is always more...</td>\n",
       "      <td>accounts receivable  dupont analysis  analysis...</td>\n",
       "    </tr>\n",
       "    <tr>\n",
       "      <th>4</th>\n",
       "      <td>Retrieve Data using Single-Table SQL Queries</td>\n",
       "      <td>Coursera Project Network</td>\n",
       "      <td>Beginner</td>\n",
       "      <td>4.6</td>\n",
       "      <td>https://www.coursera.org/learn/single-table-sq...</td>\n",
       "      <td>In this course you�ll learn how to effectively...</td>\n",
       "      <td>Data Analysis  select (sql)  database manageme...</td>\n",
       "    </tr>\n",
       "  </tbody>\n",
       "</table>\n",
       "</div>"
      ],
      "text/plain": [
       "                                         Course Name  \\\n",
       "0  Write A Feature Length Screenplay For Film Or ...   \n",
       "1  Business Strategy: Business Model Canvas Analy...   \n",
       "2                      Silicon Thin Film Solar Cells   \n",
       "3                               Finance for Managers   \n",
       "4       Retrieve Data using Single-Table SQL Queries   \n",
       "\n",
       "                  University Difficulty Level Course Rating  \\\n",
       "0  Michigan State University         Beginner           4.8   \n",
       "1   Coursera Project Network         Beginner           4.8   \n",
       "2        �cole Polytechnique         Advanced           4.1   \n",
       "3       IESE Business School     Intermediate           4.8   \n",
       "4   Coursera Project Network         Beginner           4.6   \n",
       "\n",
       "                                          Course URL  \\\n",
       "0  https://www.coursera.org/learn/write-a-feature...   \n",
       "1  https://www.coursera.org/learn/canvas-analysis...   \n",
       "2  https://www.coursera.org/learn/silicon-thin-fi...   \n",
       "3  https://www.coursera.org/learn/operational-fin...   \n",
       "4  https://www.coursera.org/learn/single-table-sq...   \n",
       "\n",
       "                                  Course Description  \\\n",
       "0  Write a Full Length Feature Film Script  In th...   \n",
       "1  By the end of this guided project, you will be...   \n",
       "2  This course consists of a general presentation...   \n",
       "3  When it comes to numbers, there is always more...   \n",
       "4  In this course you�ll learn how to effectively...   \n",
       "\n",
       "                                              Skills  \n",
       "0  Drama  Comedy  peering  screenwriting  film  D...  \n",
       "1  Finance  business plan  persona (user experien...  \n",
       "2  chemistry  physics  Solar Energy  film  lambda...  \n",
       "3  accounts receivable  dupont analysis  analysis...  \n",
       "4  Data Analysis  select (sql)  database manageme...  "
      ]
     },
     "execution_count": 7,
     "metadata": {},
     "output_type": "execute_result"
    }
   ],
   "source": [
    "# Display head of dataframe\n",
    "df.head()"
   ]
  },
  {
   "cell_type": "markdown",
   "id": "6601a094",
   "metadata": {},
   "source": [
    "The Skills column has some words that are capitalized and other words that are not. It might be better to make these words all lower case. Moreover, these words are not divided as noun vectors but are a string.\n",
    "\n",
    "Note that the \"Course Description\" column also has words.\n",
    "With NLP techniques, the Course Description section will be used to recommend courses based on their content. Term Frequency-Inverse Document Frequency (TF-IDF) vectors will be computed. This gives a matrix where each column represents a word in the course description vocabulary, and each column represents a movie. The TfIdfVectorizer in Scikit-Learn will be used."
   ]
  },
  {
   "cell_type": "code",
   "execution_count": 12,
   "id": "2c04ccb6",
   "metadata": {},
   "outputs": [
    {
     "data": {
      "text/plain": [
       "(3522, 20074)"
      ]
     },
     "execution_count": 12,
     "metadata": {},
     "output_type": "execute_result"
    }
   ],
   "source": [
    "# Import TfidfVectorizer from Scikit-Learn\n",
    "from sklearn.feature_extraction.text import TfidfVectorizer\n",
    "\n",
    "# Exclude English stopwords\n",
    "tfidf = TfidfVectorizer(stop_words='english')\n",
    "\n",
    "# Remove NaN with empty string\n",
    "df['Course Description'] = df['Course Description'].fillna('')\n",
    "\n",
    "# Construct the required TF-IDF matrix by fitting and transforming data\n",
    "tfidf_matrix = tfidf.fit_transform(df['Course Description'])\n",
    "\n",
    "# Output the shape of tfidf_matrix, which gives dimensions\n",
    "tfidf_matrix.shape"
   ]
  },
  {
   "cell_type": "markdown",
   "id": "999da057",
   "metadata": {},
   "source": [
    "There are 20074 words/vocabularies in the dataset have 3522 courses. We can now compute a similarity score. There are several similarity metrics that can be used, such as manhattan, euclidean, the Pearson, and cosine similarity scores. Cosine similarity score will be used in this system. Because the TF-IDF vectorizer has been used, calculating the dot product between each product will directly give the cosine similarity score, which is why Scikit-Learn's linear_kernel() will be used instead of the cosine_similarities(), for the sake of faster computation."
   ]
  },
  {
   "cell_type": "code",
   "execution_count": 14,
   "id": "654fc5cc",
   "metadata": {},
   "outputs": [],
   "source": [
    "from sklearn.metrics.pairwise import linear_kernel\n",
    "\n",
    "# Compute the cosine similarity matrix\n",
    "cosine_sim = linear_kernel(tfidf_matrix, tfidf_matrix)"
   ]
  },
  {
   "cell_type": "code",
   "execution_count": 15,
   "id": "44e8751f",
   "metadata": {},
   "outputs": [
    {
     "data": {
      "text/plain": [
       "(3522, 3522)"
      ]
     },
     "execution_count": 15,
     "metadata": {},
     "output_type": "execute_result"
    }
   ],
   "source": [
    "cosine_sim.shape"
   ]
  },
  {
   "cell_type": "markdown",
   "id": "9e4c6d32",
   "metadata": {},
   "source": [
    "This gives a matrix of shape 3522 x 3522, which means each course description similarity score with every other course similarity score."
   ]
  },
  {
   "cell_type": "code",
   "execution_count": 16,
   "id": "eadb4f53",
   "metadata": {},
   "outputs": [
    {
     "data": {
      "text/plain": [
       "array([0.03123665, 1.        , 0.00858915, ..., 0.0313672 , 0.00488239,\n",
       "       0.04560336])"
      ]
     },
     "execution_count": 16,
     "metadata": {},
     "output_type": "execute_result"
    }
   ],
   "source": [
    "# Show column index 1 as example of similarity scores\n",
    "# Note that row 1, column 1 is just similarity score with itself = 1\n",
    "# Diagonal scores in the matrix are all 1\n",
    "cosine_sim[1]"
   ]
  },
  {
   "cell_type": "markdown",
   "id": "4d8ac9d6",
   "metadata": {},
   "source": [
    "The following code will define a function that takes in a course title and outputs a list of the 10 most similar courses. For this, we need a reverse mapping of course titles and DataFrame indices. This means that a mechanism to identify the index of a course in the df is needed, given its title."
   ]
  },
  {
   "cell_type": "code",
   "execution_count": 17,
   "id": "50b77c50",
   "metadata": {},
   "outputs": [],
   "source": [
    "# Construct reverse map of indices and movie titles\n",
    "indices = pd.Series(df.index, index=df['Course Name']).drop_duplicates()"
   ]
  },
  {
   "cell_type": "code",
   "execution_count": 18,
   "id": "c867a0de",
   "metadata": {},
   "outputs": [
    {
     "data": {
      "text/plain": [
       "Course Name\n",
       "Write A Feature Length Screenplay For Film Or Television                                         0\n",
       "Business Strategy: Business Model Canvas Analysis with Miro                                      1\n",
       "Silicon Thin Film Solar Cells                                                                    2\n",
       "Finance for Managers                                                                             3\n",
       "Retrieve Data using Single-Table SQL Queries                                                     4\n",
       "Building Test Automation Framework using Selenium and TestNG                                     5\n",
       "Doing Business in China Capstone                                                                 6\n",
       "Programming Languages, Part A                                                                    7\n",
       "The Roles and Responsibilities of Nonprofit Boards of Directors within the Governance Process    8\n",
       "Business Russian Communication. Part 3                                                           9\n",
       "dtype: int64"
      ]
     },
     "execution_count": 18,
     "metadata": {},
     "output_type": "execute_result"
    }
   ],
   "source": [
    "# Display indices for course index 0 to 9\n",
    "indices[:10]"
   ]
  },
  {
   "cell_type": "markdown",
   "id": "4992cb7e",
   "metadata": {},
   "source": [
    "Define the recommendation function:\n",
    "- Get index of course given its name\n",
    "- Get list of cosine similarity score for particular score with all courses. Convert it into a list of tuples where first element is its position (index) and the second element is its score.\n",
    "- Sort the list of tuples based on similarity scores (the second element)\n",
    "- Get top 10 elements of this list and ignore first element, because the movie with the highest similarity score of 1 will be itself\n",
    "- Return titles corresponding to the indices of the top elements"
   ]
  },
  {
   "cell_type": "code",
   "execution_count": 28,
   "id": "45af68f4",
   "metadata": {},
   "outputs": [
    {
     "data": {
      "text/plain": [
       "3"
      ]
     },
     "execution_count": 28,
     "metadata": {},
     "output_type": "execute_result"
    }
   ],
   "source": [
    "indices['Finance for Managers']"
   ]
  },
  {
   "cell_type": "code",
   "execution_count": 29,
   "id": "5d1a37d2",
   "metadata": {},
   "outputs": [],
   "source": [
    "# Define the recommendation function\n",
    "def get_recommendations(course, cosine_sim=cosine_sim):\n",
    "    # Get index of course that matches the title\n",
    "    idx = indices[course]\n",
    "    \n",
    "    # Get pairwise similarity score of all courses with that course\n",
    "    sim_scores = list(enumerate(cosine_sim[idx]))\n",
    "    \n",
    "    # Sort courses based on the similarity scores\n",
    "    sim_scores = sorted(sim_scores, key=lambda x: x[1], reverse=True)\n",
    "    \n",
    "    # Get scores of the 10 most similar courses\n",
    "    sim_scores = sim_scores[1:11]\n",
    "    \n",
    "    # Get course indices\n",
    "    course_indices = [i[0] for i in sim_scores]\n",
    "    \n",
    "    # Return top 10 most similar courses\n",
    "    return df['Course Name'].iloc[course_indices]"
   ]
  },
  {
   "cell_type": "code",
   "execution_count": 30,
   "id": "1b79d751",
   "metadata": {},
   "outputs": [
    {
     "data": {
      "text/plain": [
       "1839    Fundamentals of financial and management accou...\n",
       "1891          Accounting and Finance for IT professionals\n",
       "1985                  Introduction to Finance: The Basics\n",
       "419                    Finance for Non-Financial Managers\n",
       "1164                         Corporate Finance Essentials\n",
       "708     Understanding Financial Statements: Company Po...\n",
       "1090                    Financial Accounting Fundamentals\n",
       "590                Corporate finance: Know your numbers 2\n",
       "3119    Introduction to Finance: The Role of Financial...\n",
       "3463    Operations Management: Analysis and Improvemen...\n",
       "Name: Course Name, dtype: object"
      ]
     },
     "execution_count": 30,
     "metadata": {},
     "output_type": "execute_result"
    }
   ],
   "source": [
    "# Example - call function for the course 'Finance for Managers'\n",
    "get_recommendations('Finance for Managers')"
   ]
  },
  {
   "cell_type": "markdown",
   "id": "28fde886",
   "metadata": {},
   "source": [
    "While we do not know much about the course 'Finance for Managers,' we can see that the recommendation function correctly recommends courses on finance."
   ]
  },
  {
   "cell_type": "code",
   "execution_count": 32,
   "id": "d1783eeb",
   "metadata": {},
   "outputs": [
    {
     "data": {
      "text/plain": [
       "3505                        Programming Languages, Part C\n",
       "1930                        Programming Languages, Part B\n",
       "1706                   Functional Program Design in Scala\n",
       "3042           Functional Programming Principles in Scala\n",
       "1258               Introduction to Programming in Swift 5\n",
       "1000                               Crash Course on Python\n",
       "2364         Mastering Software Development in R Capstone\n",
       "3362    Miracles of Human Language: An Introduction to...\n",
       "857                              Programming with Scratch\n",
       "16                          Python Programming Essentials\n",
       "Name: Course Name, dtype: object"
      ]
     },
     "execution_count": 32,
     "metadata": {},
     "output_type": "execute_result"
    }
   ],
   "source": [
    "# Another example - call function for the course 'Programming Languages, Part A'\n",
    "get_recommendations('Programming Languages, Part A')"
   ]
  },
  {
   "cell_type": "markdown",
   "id": "2070acd1",
   "metadata": {},
   "source": [
    "A different call with 'Programming Languages, Part A' recommends other courses on programming languages, and 'Programming Languages, Part C' and 'Programming Languages, Part B,' which seem to be a series along with the original course we searched for, are on the top of the ten-course recommendation list."
   ]
  },
  {
   "cell_type": "markdown",
   "id": "2fd1e63f",
   "metadata": {},
   "source": [
    "# Skills-based Recommendation System"
   ]
  },
  {
   "cell_type": "code",
   "execution_count": null,
   "id": "85764edd",
   "metadata": {},
   "outputs": [],
   "source": []
  }
 ],
 "metadata": {
  "kernelspec": {
   "display_name": "Python 3",
   "language": "python",
   "name": "python3"
  },
  "language_info": {
   "codemirror_mode": {
    "name": "ipython",
    "version": 3
   },
   "file_extension": ".py",
   "mimetype": "text/x-python",
   "name": "python",
   "nbconvert_exporter": "python",
   "pygments_lexer": "ipython3",
   "version": "3.8.8"
  }
 },
 "nbformat": 4,
 "nbformat_minor": 5
}
